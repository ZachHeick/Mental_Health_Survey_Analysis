{
 "cells": [
  {
   "cell_type": "code",
   "execution_count": 1,
   "metadata": {
    "collapsed": true
   },
   "outputs": [],
   "source": [
    "import pandas as pd\n",
    "import numpy as np\n",
    "import matplotlib.pyplot as plt\n",
    "import seaborn as sns\n",
    "\n",
    "from sklearn.model_selection import train_test_split\n",
    "from sklearn.model_selection import RandomizedSearchCV, GridSearchCV\n",
    "from sklearn.tree import DecisionTreeClassifier\n",
    "from sklearn.model_selection import cross_val_score\n",
    "from sklearn.metrics import accuracy_score, precision_score, recall_score, f1_score\n",
    "from sklearn.model_selection import learning_curve\n",
    "\n",
    "import warnings\n",
    "warnings.filterwarnings('ignore')\n",
    "\n",
    "%matplotlib inline"
   ]
  },
  {
   "cell_type": "markdown",
   "metadata": {},
   "source": [
    "# About the Dataset and Why I Chose It\n",
    "I found an interesting dataset on survey results regarding mental health in the workplace, focusing on tech. This dataset is from a 2014 survey that measures attitudes towards mental health and frequency of mental health disorders in the tech workplace. From what I observed while getting my computer science degree, talking with students and friends working in the industry, and reading comments online, I'm curious to how tech companies view mental illness and health. I'm also specifically interested in seeing if employees will seek treatment."
   ]
  },
  {
   "cell_type": "code",
   "execution_count": 2,
   "metadata": {
    "collapsed": true
   },
   "outputs": [],
   "source": [
    "df = pd.read_csv('/Users/zacharyheick/Downloads/survey.csv')"
   ]
  },
  {
   "cell_type": "code",
   "execution_count": 3,
   "metadata": {},
   "outputs": [
    {
     "name": "stdout",
     "output_type": "stream",
     "text": [
      "<class 'pandas.core.frame.DataFrame'>\n",
      "RangeIndex: 1259 entries, 0 to 1258\n",
      "Data columns (total 27 columns):\n",
      "Timestamp                    1259 non-null object\n",
      "Age                          1259 non-null int64\n",
      "Gender                       1259 non-null object\n",
      "Country                      1259 non-null object\n",
      "state                        744 non-null object\n",
      "self_employed                1241 non-null object\n",
      "family_history               1259 non-null object\n",
      "treatment                    1259 non-null object\n",
      "work_interfere               995 non-null object\n",
      "no_employees                 1259 non-null object\n",
      "remote_work                  1259 non-null object\n",
      "tech_company                 1259 non-null object\n",
      "benefits                     1259 non-null object\n",
      "care_options                 1259 non-null object\n",
      "wellness_program             1259 non-null object\n",
      "seek_help                    1259 non-null object\n",
      "anonymity                    1259 non-null object\n",
      "leave                        1259 non-null object\n",
      "mental_health_consequence    1259 non-null object\n",
      "phys_health_consequence      1259 non-null object\n",
      "coworkers                    1259 non-null object\n",
      "supervisor                   1259 non-null object\n",
      "mental_health_interview      1259 non-null object\n",
      "phys_health_interview        1259 non-null object\n",
      "mental_vs_physical           1259 non-null object\n",
      "obs_consequence              1259 non-null object\n",
      "comments                     164 non-null object\n",
      "dtypes: int64(1), object(26)\n",
      "memory usage: 265.6+ KB\n"
     ]
    }
   ],
   "source": [
    "df.info()"
   ]
  },
  {
   "cell_type": "markdown",
   "metadata": {},
   "source": [
    "**Timestamp**  \n",
    "**Age**  \n",
    "**Gender**  \n",
    "**Country**  \n",
    "**state**: If you live in the United States, which state or territory do you live in?  \n",
    "**self_employed**: Are you self-employed?  \n",
    "**family_history**: Do you have a family history of mental illness?  \n",
    "**treatment**: Have you sought treatment for a mental health condition?  \n",
    "**work_interfere**: If you have a mental health condition, do you feel that it interferes with your work?  \n",
    "**no_employees**: How many employees does your company or organization have?  \n",
    "**remote_work**: Do you work remotely (outside of an office) at least 50% of the time?  \n",
    "**tech_company**: Is your employer primarily a tech company/organization?  \n",
    "**benefits**: Does your employer provide mental health benefits?  \n",
    "**care_options**: Do you know the options for mental health care your employer provides?  \n",
    "**wellness_program**: Has your employer ever discussed mental health as part of an employee wellness program?  \n",
    "**seek_help**: Does your employer provide resources to learn more about mental health issues and how to seek help?  \n",
    "**anonymity**: Is your anonymity protected if you choose to take advantage of mental health or substance abuse treatment resources?  \n",
    "**leave**: How easy is it for you to take medical leave for a mental health condition?  \n",
    "**mental_health_consequence**: Do you think that discussing a mental health issue with your employer would have negative consequences?  \n",
    "**phys_health_consequence**: Do you think that discussing a physical health issue with your employer would have negative consequences?  \n",
    "**coworkers**: Would you be willing to discuss a mental health issue with your coworkers?  \n",
    "**supervisor**: Would you be willing to discuss a mental health issue with your direct supervisor(s)?  \n",
    "**mental_health_interview**: Would you bring up a mental health issue with a potential employer in an interview?  \n",
    "**phys_health_interview**: Would you bring up a physical health issue with a potential employer in an interview?  \n",
    "**mental_vs_physical**: Do you feel that your employer takes mental health as seriously as physical health?  \n",
    "**obs_consequence**: Have you heard of or observed negative consequences for coworkers with mental health conditions in your workplace?  \n",
    "**comments**: Any additional notes or comments  "
   ]
  },
  {
   "cell_type": "markdown",
   "metadata": {},
   "source": [
    "# Cleaning the Data"
   ]
  },
  {
   "cell_type": "markdown",
   "metadata": {},
   "source": [
    "### Dropping Columns"
   ]
  },
  {
   "cell_type": "code",
   "execution_count": 4,
   "metadata": {
    "collapsed": true
   },
   "outputs": [],
   "source": [
    "df.drop(['Timestamp', 'comments', 'state'], axis=1, inplace=True)"
   ]
  },
  {
   "cell_type": "code",
   "execution_count": 5,
   "metadata": {},
   "outputs": [
    {
     "data": {
      "text/html": [
       "<div>\n",
       "<style>\n",
       "    .dataframe thead tr:only-child th {\n",
       "        text-align: right;\n",
       "    }\n",
       "\n",
       "    .dataframe thead th {\n",
       "        text-align: left;\n",
       "    }\n",
       "\n",
       "    .dataframe tbody tr th {\n",
       "        vertical-align: top;\n",
       "    }\n",
       "</style>\n",
       "<table border=\"1\" class=\"dataframe\">\n",
       "  <thead>\n",
       "    <tr style=\"text-align: right;\">\n",
       "      <th></th>\n",
       "      <th>Age</th>\n",
       "      <th>Gender</th>\n",
       "      <th>Country</th>\n",
       "      <th>self_employed</th>\n",
       "      <th>family_history</th>\n",
       "      <th>treatment</th>\n",
       "      <th>work_interfere</th>\n",
       "      <th>no_employees</th>\n",
       "      <th>remote_work</th>\n",
       "      <th>tech_company</th>\n",
       "      <th>...</th>\n",
       "      <th>anonymity</th>\n",
       "      <th>leave</th>\n",
       "      <th>mental_health_consequence</th>\n",
       "      <th>phys_health_consequence</th>\n",
       "      <th>coworkers</th>\n",
       "      <th>supervisor</th>\n",
       "      <th>mental_health_interview</th>\n",
       "      <th>phys_health_interview</th>\n",
       "      <th>mental_vs_physical</th>\n",
       "      <th>obs_consequence</th>\n",
       "    </tr>\n",
       "  </thead>\n",
       "  <tbody>\n",
       "    <tr>\n",
       "      <th>0</th>\n",
       "      <td>37</td>\n",
       "      <td>Female</td>\n",
       "      <td>United States</td>\n",
       "      <td>NaN</td>\n",
       "      <td>No</td>\n",
       "      <td>Yes</td>\n",
       "      <td>Often</td>\n",
       "      <td>6-25</td>\n",
       "      <td>No</td>\n",
       "      <td>Yes</td>\n",
       "      <td>...</td>\n",
       "      <td>Yes</td>\n",
       "      <td>Somewhat easy</td>\n",
       "      <td>No</td>\n",
       "      <td>No</td>\n",
       "      <td>Some of them</td>\n",
       "      <td>Yes</td>\n",
       "      <td>No</td>\n",
       "      <td>Maybe</td>\n",
       "      <td>Yes</td>\n",
       "      <td>No</td>\n",
       "    </tr>\n",
       "    <tr>\n",
       "      <th>1</th>\n",
       "      <td>44</td>\n",
       "      <td>M</td>\n",
       "      <td>United States</td>\n",
       "      <td>NaN</td>\n",
       "      <td>No</td>\n",
       "      <td>No</td>\n",
       "      <td>Rarely</td>\n",
       "      <td>More than 1000</td>\n",
       "      <td>No</td>\n",
       "      <td>No</td>\n",
       "      <td>...</td>\n",
       "      <td>Don't know</td>\n",
       "      <td>Don't know</td>\n",
       "      <td>Maybe</td>\n",
       "      <td>No</td>\n",
       "      <td>No</td>\n",
       "      <td>No</td>\n",
       "      <td>No</td>\n",
       "      <td>No</td>\n",
       "      <td>Don't know</td>\n",
       "      <td>No</td>\n",
       "    </tr>\n",
       "    <tr>\n",
       "      <th>2</th>\n",
       "      <td>32</td>\n",
       "      <td>Male</td>\n",
       "      <td>Canada</td>\n",
       "      <td>NaN</td>\n",
       "      <td>No</td>\n",
       "      <td>No</td>\n",
       "      <td>Rarely</td>\n",
       "      <td>6-25</td>\n",
       "      <td>No</td>\n",
       "      <td>Yes</td>\n",
       "      <td>...</td>\n",
       "      <td>Don't know</td>\n",
       "      <td>Somewhat difficult</td>\n",
       "      <td>No</td>\n",
       "      <td>No</td>\n",
       "      <td>Yes</td>\n",
       "      <td>Yes</td>\n",
       "      <td>Yes</td>\n",
       "      <td>Yes</td>\n",
       "      <td>No</td>\n",
       "      <td>No</td>\n",
       "    </tr>\n",
       "    <tr>\n",
       "      <th>3</th>\n",
       "      <td>31</td>\n",
       "      <td>Male</td>\n",
       "      <td>United Kingdom</td>\n",
       "      <td>NaN</td>\n",
       "      <td>Yes</td>\n",
       "      <td>Yes</td>\n",
       "      <td>Often</td>\n",
       "      <td>26-100</td>\n",
       "      <td>No</td>\n",
       "      <td>Yes</td>\n",
       "      <td>...</td>\n",
       "      <td>No</td>\n",
       "      <td>Somewhat difficult</td>\n",
       "      <td>Yes</td>\n",
       "      <td>Yes</td>\n",
       "      <td>Some of them</td>\n",
       "      <td>No</td>\n",
       "      <td>Maybe</td>\n",
       "      <td>Maybe</td>\n",
       "      <td>No</td>\n",
       "      <td>Yes</td>\n",
       "    </tr>\n",
       "    <tr>\n",
       "      <th>4</th>\n",
       "      <td>31</td>\n",
       "      <td>Male</td>\n",
       "      <td>United States</td>\n",
       "      <td>NaN</td>\n",
       "      <td>No</td>\n",
       "      <td>No</td>\n",
       "      <td>Never</td>\n",
       "      <td>100-500</td>\n",
       "      <td>Yes</td>\n",
       "      <td>Yes</td>\n",
       "      <td>...</td>\n",
       "      <td>Don't know</td>\n",
       "      <td>Don't know</td>\n",
       "      <td>No</td>\n",
       "      <td>No</td>\n",
       "      <td>Some of them</td>\n",
       "      <td>Yes</td>\n",
       "      <td>Yes</td>\n",
       "      <td>Yes</td>\n",
       "      <td>Don't know</td>\n",
       "      <td>No</td>\n",
       "    </tr>\n",
       "  </tbody>\n",
       "</table>\n",
       "<p>5 rows × 24 columns</p>\n",
       "</div>"
      ],
      "text/plain": [
       "   Age  Gender         Country self_employed family_history treatment  \\\n",
       "0   37  Female   United States           NaN             No       Yes   \n",
       "1   44       M   United States           NaN             No        No   \n",
       "2   32    Male          Canada           NaN             No        No   \n",
       "3   31    Male  United Kingdom           NaN            Yes       Yes   \n",
       "4   31    Male   United States           NaN             No        No   \n",
       "\n",
       "  work_interfere    no_employees remote_work tech_company       ...        \\\n",
       "0          Often            6-25          No          Yes       ...         \n",
       "1         Rarely  More than 1000          No           No       ...         \n",
       "2         Rarely            6-25          No          Yes       ...         \n",
       "3          Often          26-100          No          Yes       ...         \n",
       "4          Never         100-500         Yes          Yes       ...         \n",
       "\n",
       "    anonymity               leave mental_health_consequence  \\\n",
       "0         Yes       Somewhat easy                        No   \n",
       "1  Don't know          Don't know                     Maybe   \n",
       "2  Don't know  Somewhat difficult                        No   \n",
       "3          No  Somewhat difficult                       Yes   \n",
       "4  Don't know          Don't know                        No   \n",
       "\n",
       "  phys_health_consequence     coworkers supervisor mental_health_interview  \\\n",
       "0                      No  Some of them        Yes                      No   \n",
       "1                      No            No         No                      No   \n",
       "2                      No           Yes        Yes                     Yes   \n",
       "3                     Yes  Some of them         No                   Maybe   \n",
       "4                      No  Some of them        Yes                     Yes   \n",
       "\n",
       "  phys_health_interview mental_vs_physical obs_consequence  \n",
       "0                 Maybe                Yes              No  \n",
       "1                    No         Don't know              No  \n",
       "2                   Yes                 No              No  \n",
       "3                 Maybe                 No             Yes  \n",
       "4                   Yes         Don't know              No  \n",
       "\n",
       "[5 rows x 24 columns]"
      ]
     },
     "execution_count": 5,
     "metadata": {},
     "output_type": "execute_result"
    }
   ],
   "source": [
    "df.head()"
   ]
  },
  {
   "cell_type": "markdown",
   "metadata": {},
   "source": [
    "### Age"
   ]
  },
  {
   "cell_type": "code",
   "execution_count": 6,
   "metadata": {},
   "outputs": [
    {
     "data": {
      "text/html": [
       "<div>\n",
       "<style>\n",
       "    .dataframe thead tr:only-child th {\n",
       "        text-align: right;\n",
       "    }\n",
       "\n",
       "    .dataframe thead th {\n",
       "        text-align: left;\n",
       "    }\n",
       "\n",
       "    .dataframe tbody tr th {\n",
       "        vertical-align: top;\n",
       "    }\n",
       "</style>\n",
       "<table border=\"1\" class=\"dataframe\">\n",
       "  <thead>\n",
       "    <tr style=\"text-align: right;\">\n",
       "      <th></th>\n",
       "      <th>Age</th>\n",
       "      <th>Gender</th>\n",
       "      <th>Country</th>\n",
       "      <th>self_employed</th>\n",
       "      <th>family_history</th>\n",
       "      <th>treatment</th>\n",
       "      <th>work_interfere</th>\n",
       "      <th>no_employees</th>\n",
       "      <th>remote_work</th>\n",
       "      <th>tech_company</th>\n",
       "      <th>...</th>\n",
       "      <th>anonymity</th>\n",
       "      <th>leave</th>\n",
       "      <th>mental_health_consequence</th>\n",
       "      <th>phys_health_consequence</th>\n",
       "      <th>coworkers</th>\n",
       "      <th>supervisor</th>\n",
       "      <th>mental_health_interview</th>\n",
       "      <th>phys_health_interview</th>\n",
       "      <th>mental_vs_physical</th>\n",
       "      <th>obs_consequence</th>\n",
       "    </tr>\n",
       "  </thead>\n",
       "  <tbody>\n",
       "    <tr>\n",
       "      <th>143</th>\n",
       "      <td>-29</td>\n",
       "      <td>Male</td>\n",
       "      <td>United States</td>\n",
       "      <td>No</td>\n",
       "      <td>No</td>\n",
       "      <td>No</td>\n",
       "      <td>NaN</td>\n",
       "      <td>More than 1000</td>\n",
       "      <td>Yes</td>\n",
       "      <td>No</td>\n",
       "      <td>...</td>\n",
       "      <td>Don't know</td>\n",
       "      <td>Don't know</td>\n",
       "      <td>No</td>\n",
       "      <td>No</td>\n",
       "      <td>Some of them</td>\n",
       "      <td>Yes</td>\n",
       "      <td>No</td>\n",
       "      <td>No</td>\n",
       "      <td>Don't know</td>\n",
       "      <td>No</td>\n",
       "    </tr>\n",
       "    <tr>\n",
       "      <th>364</th>\n",
       "      <td>329</td>\n",
       "      <td>Male</td>\n",
       "      <td>United States</td>\n",
       "      <td>No</td>\n",
       "      <td>No</td>\n",
       "      <td>Yes</td>\n",
       "      <td>Often</td>\n",
       "      <td>6-25</td>\n",
       "      <td>Yes</td>\n",
       "      <td>Yes</td>\n",
       "      <td>...</td>\n",
       "      <td>Don't know</td>\n",
       "      <td>Don't know</td>\n",
       "      <td>Maybe</td>\n",
       "      <td>No</td>\n",
       "      <td>Some of them</td>\n",
       "      <td>No</td>\n",
       "      <td>No</td>\n",
       "      <td>No</td>\n",
       "      <td>No</td>\n",
       "      <td>No</td>\n",
       "    </tr>\n",
       "    <tr>\n",
       "      <th>390</th>\n",
       "      <td>99999999999</td>\n",
       "      <td>All</td>\n",
       "      <td>Zimbabwe</td>\n",
       "      <td>Yes</td>\n",
       "      <td>Yes</td>\n",
       "      <td>Yes</td>\n",
       "      <td>Often</td>\n",
       "      <td>1-5</td>\n",
       "      <td>No</td>\n",
       "      <td>Yes</td>\n",
       "      <td>...</td>\n",
       "      <td>No</td>\n",
       "      <td>Very difficult</td>\n",
       "      <td>Yes</td>\n",
       "      <td>Yes</td>\n",
       "      <td>No</td>\n",
       "      <td>No</td>\n",
       "      <td>Yes</td>\n",
       "      <td>No</td>\n",
       "      <td>No</td>\n",
       "      <td>Yes</td>\n",
       "    </tr>\n",
       "    <tr>\n",
       "      <th>715</th>\n",
       "      <td>-1726</td>\n",
       "      <td>male</td>\n",
       "      <td>United Kingdom</td>\n",
       "      <td>No</td>\n",
       "      <td>No</td>\n",
       "      <td>Yes</td>\n",
       "      <td>Sometimes</td>\n",
       "      <td>26-100</td>\n",
       "      <td>No</td>\n",
       "      <td>No</td>\n",
       "      <td>...</td>\n",
       "      <td>Don't know</td>\n",
       "      <td>Somewhat difficult</td>\n",
       "      <td>Yes</td>\n",
       "      <td>No</td>\n",
       "      <td>No</td>\n",
       "      <td>No</td>\n",
       "      <td>No</td>\n",
       "      <td>Maybe</td>\n",
       "      <td>Don't know</td>\n",
       "      <td>No</td>\n",
       "    </tr>\n",
       "    <tr>\n",
       "      <th>734</th>\n",
       "      <td>5</td>\n",
       "      <td>Male</td>\n",
       "      <td>United States</td>\n",
       "      <td>No</td>\n",
       "      <td>No</td>\n",
       "      <td>No</td>\n",
       "      <td>NaN</td>\n",
       "      <td>100-500</td>\n",
       "      <td>No</td>\n",
       "      <td>Yes</td>\n",
       "      <td>...</td>\n",
       "      <td>Don't know</td>\n",
       "      <td>Somewhat easy</td>\n",
       "      <td>No</td>\n",
       "      <td>No</td>\n",
       "      <td>Yes</td>\n",
       "      <td>Yes</td>\n",
       "      <td>No</td>\n",
       "      <td>No</td>\n",
       "      <td>Yes</td>\n",
       "      <td>No</td>\n",
       "    </tr>\n",
       "    <tr>\n",
       "      <th>989</th>\n",
       "      <td>8</td>\n",
       "      <td>A little about you</td>\n",
       "      <td>Bahamas, The</td>\n",
       "      <td>Yes</td>\n",
       "      <td>Yes</td>\n",
       "      <td>Yes</td>\n",
       "      <td>Often</td>\n",
       "      <td>1-5</td>\n",
       "      <td>Yes</td>\n",
       "      <td>Yes</td>\n",
       "      <td>...</td>\n",
       "      <td>Yes</td>\n",
       "      <td>Very easy</td>\n",
       "      <td>Yes</td>\n",
       "      <td>Yes</td>\n",
       "      <td>Yes</td>\n",
       "      <td>Yes</td>\n",
       "      <td>Yes</td>\n",
       "      <td>Yes</td>\n",
       "      <td>Yes</td>\n",
       "      <td>Yes</td>\n",
       "    </tr>\n",
       "    <tr>\n",
       "      <th>1090</th>\n",
       "      <td>11</td>\n",
       "      <td>male</td>\n",
       "      <td>United States</td>\n",
       "      <td>Yes</td>\n",
       "      <td>No</td>\n",
       "      <td>No</td>\n",
       "      <td>Never</td>\n",
       "      <td>1-5</td>\n",
       "      <td>Yes</td>\n",
       "      <td>Yes</td>\n",
       "      <td>...</td>\n",
       "      <td>Yes</td>\n",
       "      <td>Very easy</td>\n",
       "      <td>No</td>\n",
       "      <td>No</td>\n",
       "      <td>Some of them</td>\n",
       "      <td>Some of them</td>\n",
       "      <td>No</td>\n",
       "      <td>Maybe</td>\n",
       "      <td>Yes</td>\n",
       "      <td>No</td>\n",
       "    </tr>\n",
       "    <tr>\n",
       "      <th>1127</th>\n",
       "      <td>-1</td>\n",
       "      <td>p</td>\n",
       "      <td>United States</td>\n",
       "      <td>Yes</td>\n",
       "      <td>Yes</td>\n",
       "      <td>Yes</td>\n",
       "      <td>Often</td>\n",
       "      <td>1-5</td>\n",
       "      <td>Yes</td>\n",
       "      <td>Yes</td>\n",
       "      <td>...</td>\n",
       "      <td>Yes</td>\n",
       "      <td>Very easy</td>\n",
       "      <td>Yes</td>\n",
       "      <td>Yes</td>\n",
       "      <td>Yes</td>\n",
       "      <td>Yes</td>\n",
       "      <td>Yes</td>\n",
       "      <td>Yes</td>\n",
       "      <td>Yes</td>\n",
       "      <td>Yes</td>\n",
       "    </tr>\n",
       "  </tbody>\n",
       "</table>\n",
       "<p>8 rows × 24 columns</p>\n",
       "</div>"
      ],
      "text/plain": [
       "              Age              Gender         Country self_employed  \\\n",
       "143           -29                Male   United States            No   \n",
       "364           329                Male   United States            No   \n",
       "390   99999999999                 All        Zimbabwe           Yes   \n",
       "715         -1726                male  United Kingdom            No   \n",
       "734             5                Male   United States            No   \n",
       "989             8  A little about you    Bahamas, The           Yes   \n",
       "1090           11                male   United States           Yes   \n",
       "1127           -1                   p   United States           Yes   \n",
       "\n",
       "     family_history treatment work_interfere    no_employees remote_work  \\\n",
       "143              No        No            NaN  More than 1000         Yes   \n",
       "364              No       Yes          Often            6-25         Yes   \n",
       "390             Yes       Yes          Often             1-5          No   \n",
       "715              No       Yes      Sometimes          26-100          No   \n",
       "734              No        No            NaN         100-500          No   \n",
       "989             Yes       Yes          Often             1-5         Yes   \n",
       "1090             No        No          Never             1-5         Yes   \n",
       "1127            Yes       Yes          Often             1-5         Yes   \n",
       "\n",
       "     tech_company       ...         anonymity               leave  \\\n",
       "143            No       ...        Don't know          Don't know   \n",
       "364           Yes       ...        Don't know          Don't know   \n",
       "390           Yes       ...                No      Very difficult   \n",
       "715            No       ...        Don't know  Somewhat difficult   \n",
       "734           Yes       ...        Don't know       Somewhat easy   \n",
       "989           Yes       ...               Yes           Very easy   \n",
       "1090          Yes       ...               Yes           Very easy   \n",
       "1127          Yes       ...               Yes           Very easy   \n",
       "\n",
       "     mental_health_consequence phys_health_consequence     coworkers  \\\n",
       "143                         No                      No  Some of them   \n",
       "364                      Maybe                      No  Some of them   \n",
       "390                        Yes                     Yes            No   \n",
       "715                        Yes                      No            No   \n",
       "734                         No                      No           Yes   \n",
       "989                        Yes                     Yes           Yes   \n",
       "1090                        No                      No  Some of them   \n",
       "1127                       Yes                     Yes           Yes   \n",
       "\n",
       "        supervisor mental_health_interview phys_health_interview  \\\n",
       "143            Yes                      No                    No   \n",
       "364             No                      No                    No   \n",
       "390             No                     Yes                    No   \n",
       "715             No                      No                 Maybe   \n",
       "734            Yes                      No                    No   \n",
       "989            Yes                     Yes                   Yes   \n",
       "1090  Some of them                      No                 Maybe   \n",
       "1127           Yes                     Yes                   Yes   \n",
       "\n",
       "     mental_vs_physical obs_consequence  \n",
       "143          Don't know              No  \n",
       "364                  No              No  \n",
       "390                  No             Yes  \n",
       "715          Don't know              No  \n",
       "734                 Yes              No  \n",
       "989                 Yes             Yes  \n",
       "1090                Yes              No  \n",
       "1127                Yes             Yes  \n",
       "\n",
       "[8 rows x 24 columns]"
      ]
     },
     "execution_count": 6,
     "metadata": {},
     "output_type": "execute_result"
    }
   ],
   "source": [
    "df[(df['Age'] < 18) | (df['Age'] > 100)]"
   ]
  },
  {
   "cell_type": "markdown",
   "metadata": {},
   "source": [
    "There are a few rows with non-realistic ages, so I'll replace any age values less than 18 or greater than 100 with the median age."
   ]
  },
  {
   "cell_type": "code",
   "execution_count": 7,
   "metadata": {},
   "outputs": [
    {
     "data": {
      "text/plain": [
       "31.0"
      ]
     },
     "execution_count": 7,
     "metadata": {},
     "output_type": "execute_result"
    }
   ],
   "source": [
    "df['Age'].median()"
   ]
  },
  {
   "cell_type": "code",
   "execution_count": 8,
   "metadata": {
    "collapsed": true
   },
   "outputs": [],
   "source": [
    "df['Age'].replace([5, -1726, -29, 11, -1, 8, 329, 99999999999], 31, inplace=True)"
   ]
  },
  {
   "cell_type": "markdown",
   "metadata": {},
   "source": [
    "### Gender"
   ]
  },
  {
   "cell_type": "markdown",
   "metadata": {},
   "source": [
    "Based on this survey, there are many categories regarding gender. I'll split this column into three categories: `Male`, `Female`, and `Trans / Other`."
   ]
  },
  {
   "cell_type": "code",
   "execution_count": 9,
   "metadata": {
    "collapsed": true
   },
   "outputs": [],
   "source": [
    "male = ['Male', 'male', 'M', 'm', 'Male ', 'make', 'Make', 'Man', 'Cis Male', 'cis male', 'male leaning androgynous', 'msle', 'Malr',\n",
    "        'Mal', 'something kinda male?', 'Male (CIS)',  'Cis Man', 'Mail', 'Guy (-ish) ^_^', 'Male-ish', 'maile',\n",
    "        'ostensibly male, unsure what that really means']\n",
    "\n",
    "female = ['Female', 'female', 'F', 'f', 'Woman', 'Female ', 'Femake', 'woman', 'femail', 'Female (cis)', 'Cis Female',\n",
    "          'cis-female/femme']\n",
    "\n",
    "trans_other = ['Female (trans)', 'fluid', 'Agender', 'All', 'Trans woman', 'Neuter', 'Androgyne', 'Enby', 'Trans-female',\n",
    "               'queer', 'queer/she/they', 'non-binary', 'Genderqueer']"
   ]
  },
  {
   "cell_type": "code",
   "execution_count": 10,
   "metadata": {
    "collapsed": true
   },
   "outputs": [],
   "source": [
    "df['Gender'].replace(male, 'Male', inplace=True)\n",
    "df['Gender'].replace(female, 'Female', inplace=True)\n",
    "df['Gender'].replace(trans_other, 'Trans / Other', inplace=True)"
   ]
  },
  {
   "cell_type": "code",
   "execution_count": 11,
   "metadata": {
    "collapsed": true
   },
   "outputs": [],
   "source": [
    "df.drop(df[df['Gender'] == 'A little about you'].index, inplace=True)\n",
    "df.drop(df[df['Gender'] == 'p'].index, inplace=True)\n",
    "df.drop(df[df['Gender'] == 'Nah'].index, inplace=True)"
   ]
  },
  {
   "cell_type": "markdown",
   "metadata": {},
   "source": [
    "### Self Employed"
   ]
  },
  {
   "cell_type": "markdown",
   "metadata": {},
   "source": [
    "There were a few self-employed values listed as `NaN`, so I assumed that these people were self-employed."
   ]
  },
  {
   "cell_type": "code",
   "execution_count": 12,
   "metadata": {
    "collapsed": true
   },
   "outputs": [],
   "source": [
    "df['self_employed'].fillna('Yes', inplace=True)"
   ]
  },
  {
   "cell_type": "markdown",
   "metadata": {},
   "source": [
    "### Work Interference"
   ]
  },
  {
   "cell_type": "markdown",
   "metadata": {},
   "source": [
    "The survey question asked, \"If you have a mental condition, do you feel that it interferes with your work?\". Those who did not have a mental condition did not answer the question. To make this more clear, I replaced `NaN` with `No Mental Condition`."
   ]
  },
  {
   "cell_type": "code",
   "execution_count": 13,
   "metadata": {
    "collapsed": true
   },
   "outputs": [],
   "source": [
    "df['work_interfere'].fillna('No Mental Condition', inplace=True)"
   ]
  },
  {
   "cell_type": "code",
   "execution_count": 14,
   "metadata": {},
   "outputs": [
    {
     "name": "stdout",
     "output_type": "stream",
     "text": [
      "<class 'pandas.core.frame.DataFrame'>\n",
      "Int64Index: 1256 entries, 0 to 1258\n",
      "Data columns (total 24 columns):\n",
      "Age                          1256 non-null int64\n",
      "Gender                       1256 non-null object\n",
      "Country                      1256 non-null object\n",
      "self_employed                1256 non-null object\n",
      "family_history               1256 non-null object\n",
      "treatment                    1256 non-null object\n",
      "work_interfere               1256 non-null object\n",
      "no_employees                 1256 non-null object\n",
      "remote_work                  1256 non-null object\n",
      "tech_company                 1256 non-null object\n",
      "benefits                     1256 non-null object\n",
      "care_options                 1256 non-null object\n",
      "wellness_program             1256 non-null object\n",
      "seek_help                    1256 non-null object\n",
      "anonymity                    1256 non-null object\n",
      "leave                        1256 non-null object\n",
      "mental_health_consequence    1256 non-null object\n",
      "phys_health_consequence      1256 non-null object\n",
      "coworkers                    1256 non-null object\n",
      "supervisor                   1256 non-null object\n",
      "mental_health_interview      1256 non-null object\n",
      "phys_health_interview        1256 non-null object\n",
      "mental_vs_physical           1256 non-null object\n",
      "obs_consequence              1256 non-null object\n",
      "dtypes: int64(1), object(23)\n",
      "memory usage: 245.3+ KB\n"
     ]
    }
   ],
   "source": [
    "df.info()"
   ]
  },
  {
   "cell_type": "markdown",
   "metadata": {},
   "source": [
    "# Analysis"
   ]
  },
  {
   "cell_type": "markdown",
   "metadata": {},
   "source": [
    "### Survey Demographics"
   ]
  },
  {
   "cell_type": "code",
   "execution_count": 15,
   "metadata": {},
   "outputs": [
    {
     "data": {
      "image/png": "[encoded data removed]",
      "text/plain": [
       "<matplotlib.figure.Figure at 0x1150a92b0>"
      ]
     },
     "metadata": {},
     "output_type": "display_data"
    }
   ],
   "source": [
    "plt.figure(figsize=(7,6))\n",
    "plt.ylabel('Distribution %', size=14)\n",
    "plt.yticks(size=12)\n",
    "plt.xlabel('Age', size=14)\n",
    "plt.xticks(size=12)\n",
    "plt.title('Survey Age Distribution', size=16)\n",
    "sns.distplot(df['Age']);"
   ]
  },
  {
   "cell_type": "code",
   "execution_count": 16,
   "metadata": {},
   "outputs": [
    {
     "data": {
      "text/plain": [
       "Male             995\n",
       "Female           247\n",
       "Trans / Other     14\n",
       "Name: Gender, dtype: int64"
      ]
     },
     "execution_count": 16,
     "metadata": {},
     "output_type": "execute_result"
    }
   ],
   "source": [
    "df['Gender'].value_counts()"
   ]
  },
  {
   "cell_type": "code",
   "execution_count": 17,
   "metadata": {},
   "outputs": [
    {
     "data": {
      "text/plain": [
       "Yes    1028\n",
       "No      228\n",
       "Name: tech_company, dtype: int64"
      ]
     },
     "execution_count": 17,
     "metadata": {},
     "output_type": "execute_result"
    }
   ],
   "source": [
    "df['tech_company'].value_counts()"
   ]
  },
  {
   "cell_type": "code",
   "execution_count": 18,
   "metadata": {},
   "outputs": [
    {
     "data": {
      "text/plain": [
       "6-25              290\n",
       "26-100            289\n",
       "More than 1000    282\n",
       "100-500           176\n",
       "1-5               159\n",
       "500-1000           60\n",
       "Name: no_employees, dtype: int64"
      ]
     },
     "execution_count": 18,
     "metadata": {},
     "output_type": "execute_result"
    }
   ],
   "source": [
    "df['no_employees'].value_counts()"
   ]
  },
  {
   "cell_type": "code",
   "execution_count": 19,
   "metadata": {},
   "outputs": [
    {
     "data": {
      "text/plain": [
       "No     767\n",
       "Yes    489\n",
       "Name: family_history, dtype: int64"
      ]
     },
     "execution_count": 19,
     "metadata": {},
     "output_type": "execute_result"
    }
   ],
   "source": [
    "df['family_history'].value_counts()"
   ]
  },
  {
   "cell_type": "code",
   "execution_count": 20,
   "metadata": {},
   "outputs": [
    {
     "data": {
      "text/plain": [
       "Yes    634\n",
       "No     622\n",
       "Name: treatment, dtype: int64"
      ]
     },
     "execution_count": 20,
     "metadata": {},
     "output_type": "execute_result"
    }
   ],
   "source": [
    "df['treatment'].value_counts()"
   ]
  },
  {
   "cell_type": "markdown",
   "metadata": {},
   "source": [
    "In total, there were 1256 people surveyed. Out of this population, the dominant age group was late twenties to early thirties, with the majority being male. About half of those surveyed sought treatment for mental health, while slightly more than half did not have a family history of mental health problems."
   ]
  },
  {
   "cell_type": "markdown",
   "metadata": {},
   "source": [
    "### Mental Health in the Work Environment\n",
    "I was interested to see how mental and physical health problems were perceived in the workplace and while interviewing."
   ]
  },
  {
   "cell_type": "markdown",
   "metadata": {},
   "source": [
    "### Would you bring up a physical / mental health issue with a potential employer in an interview?"
   ]
  },
  {
   "cell_type": "code",
   "execution_count": 21,
   "metadata": {
    "collapsed": true
   },
   "outputs": [],
   "source": [
    "phys_health_interview = df.groupby('phys_health_interview').count()['Age']\n",
    "mental_health_interview = df.groupby('mental_health_interview').count()['Age']"
   ]
  },
  {
   "cell_type": "code",
   "execution_count": 22,
   "metadata": {},
   "outputs": [
    {
     "data": {
      "image/png": "[encoded data removed]",
      "text/plain": [
       "<matplotlib.figure.Figure at 0x1150d1518>"
      ]
     },
     "metadata": {},
     "output_type": "display_data"
    }
   ],
   "source": [
    "pos = [0,1,2]\n",
    "width = 0.3\n",
    "\n",
    "fig, ax = plt.subplots(figsize=(7,6))\n",
    "\n",
    "plt.bar(pos, \n",
    "        phys_health_interview, \n",
    "        width, \n",
    "        alpha=0.75, \n",
    "        color='deepskyblue',\n",
    "        label='Physical')\n",
    "\n",
    "plt.bar([p + width for p in pos], \n",
    "        mental_health_interview,\n",
    "        width, \n",
    "        alpha=0.75, \n",
    "        color='lightcoral',\n",
    "        label='Mental')\n",
    "\n",
    "ax.set_xticks([p + width/2 for p in pos])\n",
    "ax.set_xticklabels(phys_health_interview.index, size=12)\n",
    "plt.yticks(size=12)\n",
    "ax.set_ylabel('Count', size=14)\n",
    "ax.set_xlabel('Answer', size=14)\n",
    "ax.set_title('Discussing Physical / Mental Health in Interviews', size=16)\n",
    "\n",
    "plt.legend(['Physical', 'Mental'], loc='upper right', prop={'size':14})\n",
    "plt.show();"
   ]
  },
  {
   "cell_type": "markdown",
   "metadata": {},
   "source": [
    "### Do you think that discussing a physical / mental health issue with your employer would have negative consequences?"
   ]
  },
  {
   "cell_type": "code",
   "execution_count": 23,
   "metadata": {
    "collapsed": true
   },
   "outputs": [],
   "source": [
    "phys_health_consequences = df.groupby('phys_health_consequence').count()['Age']\n",
    "mental_health_consequences = df.groupby('mental_health_consequence').count()['Age']"
   ]
  },
  {
   "cell_type": "code",
   "execution_count": 24,
   "metadata": {},
   "outputs": [
    {
     "data": {
      "image/png": "[encoded data removed]",
      "text/plain": [
       "<matplotlib.figure.Figure at 0x10a2c8f98>"
      ]
     },
     "metadata": {},
     "output_type": "display_data"
    }
   ],
   "source": [
    "pos = [0,1,2]\n",
    "width = 0.3\n",
    "\n",
    "fig, ax = plt.subplots(figsize=(7,6))\n",
    "\n",
    "plt.bar(pos, \n",
    "        phys_health_consequences, \n",
    "        width, \n",
    "        alpha=0.75, \n",
    "        color='deepskyblue',\n",
    "        label='Physical')\n",
    "\n",
    "plt.bar([p + width for p in pos], \n",
    "        mental_health_consequences,\n",
    "        width, \n",
    "        alpha=0.75, \n",
    "        color='lightcoral',\n",
    "        label='Mental')\n",
    "\n",
    "ax.set_xticks([p + width/2 for p in pos])\n",
    "ax.set_xticklabels(phys_health_consequences.index, size=12)\n",
    "plt.yticks(size=12)\n",
    "ax.set_ylabel('Count', size=14)\n",
    "ax.set_xlabel('Answer', size=14)\n",
    "ax.set_title('Negative Consequences Discussing Health with Employer', size=14)\n",
    "\n",
    "plt.legend(['Physical', 'Mental'], loc='upper right', prop={'size':14})\n",
    "plt.show();"
   ]
  },
  {
   "cell_type": "markdown",
   "metadata": {},
   "source": [
    "### Would you be willing to discuss a mental health issue with your coworkers or direct supervisor(s)?"
   ]
  },
  {
   "cell_type": "code",
   "execution_count": 25,
   "metadata": {},
   "outputs": [
    {
     "data": {
      "text/plain": [
       "Some of them    773\n",
       "No              260\n",
       "Yes             223\n",
       "Name: coworkers, dtype: int64"
      ]
     },
     "execution_count": 25,
     "metadata": {},
     "output_type": "execute_result"
    }
   ],
   "source": [
    "df['coworkers'].value_counts()"
   ]
  },
  {
   "cell_type": "code",
   "execution_count": 26,
   "metadata": {},
   "outputs": [
    {
     "data": {
      "text/plain": [
       "Yes             514\n",
       "No              392\n",
       "Some of them    350\n",
       "Name: supervisor, dtype: int64"
      ]
     },
     "execution_count": 26,
     "metadata": {},
     "output_type": "execute_result"
    }
   ],
   "source": [
    "df['supervisor'].value_counts()"
   ]
  },
  {
   "cell_type": "markdown",
   "metadata": {},
   "source": [
    "It was interesting to see the stigma of mental health in both the interview process and in the workplace. I also found it interesting that more people would say `yes` to discussing mental health with their supervisors compared to their coworkers."
   ]
  },
  {
   "cell_type": "markdown",
   "metadata": {},
   "source": [
    "# Modeling"
   ]
  },
  {
   "cell_type": "markdown",
   "metadata": {},
   "source": [
    "A question I'm curious to answer is **can we predict if someone will seek mental health treatment based on the survey results?**"
   ]
  },
  {
   "cell_type": "code",
   "execution_count": 27,
   "metadata": {
    "collapsed": true
   },
   "outputs": [],
   "source": [
    "X = df.drop('treatment', axis=1)\n",
    "y = df['treatment']"
   ]
  },
  {
   "cell_type": "code",
   "execution_count": 28,
   "metadata": {
    "collapsed": true
   },
   "outputs": [],
   "source": [
    "for col in df.columns:\n",
    "    if col!= 'treatment' and col != 'Age':\n",
    "        X[col] = X[col].astype('category')\n",
    "\n",
    "X = pd.get_dummies(X, drop_first=True)\n",
    "X_train, X_test, y_train, y_test = train_test_split(X, y, test_size=0.3, random_state=123, stratify=y)"
   ]
  },
  {
   "cell_type": "code",
   "execution_count": 29,
   "metadata": {
    "collapsed": true
   },
   "outputs": [],
   "source": [
    "def tune_hyperparameter(param_grid, algorithm, score, X, y):\n",
    "    \"\"\"\n",
    "    Uses GridSearchCV to find the best hyperparameters for an\n",
    "    algorithm. Prints the best score, parameter, and estimator.\n",
    "    \n",
    "    :param param_grid: list or dictionary of hyperparameters\n",
    "    :param algorithm: classification algorithm to tune\n",
    "    :param score: the metric type\n",
    "    :param X: features set\n",
    "    :param y: target set\n",
    "    :returns: Grid object\n",
    "    \"\"\"\n",
    "    grid = GridSearchCV(algorithm, param_grid, cv=10, scoring=score)\n",
    "    grid.fit(X,y)\n",
    "    print('Best Score: ' + str(grid.best_score_))\n",
    "    print('Best Parameter: ' + str(grid.best_params_))\n",
    "    print('Best Estimator: ' + str(grid.best_estimator_))\n",
    "    return grid"
   ]
  },
  {
   "cell_type": "code",
   "execution_count": 30,
   "metadata": {
    "collapsed": true
   },
   "outputs": [],
   "source": [
    "def graph_learning_curve(algorithm, X, y):\n",
    "    \"\"\"\n",
    "    Plots the learning curve of an algorithm.\n",
    "    \n",
    "    :param algorithm: the algorithm to plot\n",
    "    :param X: features set\n",
    "    :param y: target set\n",
    "    \"\"\"\n",
    "    m,train_err,ts_err = learning_curve(algorithm,\n",
    "                                    X,\n",
    "                                    y, \n",
    "                                    train_sizes=np.linspace(0.1, 1.0, 20))\n",
    "\n",
    "    train_cv_err = np.mean(train_err,axis=1)\n",
    "    test_cv_err = np.mean(ts_err,axis=1)\n",
    "\n",
    "    plt.figure(figsize=(10,7))\n",
    "    plt.ylabel('Accuracy', size=16)\n",
    "    plt.xlabel('Data Samples', size=16)\n",
    "    plt.yticks(size=14)\n",
    "    plt.xticks(size=14)\n",
    "    tr, = plt.plot(m,train_cv_err, 'm')\n",
    "    ts, = plt.plot(m,test_cv_err, '--r')\n",
    "    plt.legend((tr,ts),('train','test'),loc='best', prop={'size':12});"
   ]
  },
  {
   "cell_type": "markdown",
   "metadata": {},
   "source": [
    "### Decision Tree"
   ]
  },
  {
   "cell_type": "code",
   "execution_count": 31,
   "metadata": {},
   "outputs": [
    {
     "name": "stdout",
     "output_type": "stream",
     "text": [
      "Best Score: 0.808873720137\n",
      "Best Parameter: {'criterion': 'gini', 'max_depth': 6}\n",
      "Best Estimator: DecisionTreeClassifier(class_weight=None, criterion='gini', max_depth=6,\n",
      "            max_features=None, max_leaf_nodes=None,\n",
      "            min_impurity_decrease=0.0, min_impurity_split=None,\n",
      "            min_samples_leaf=1, min_samples_split=2,\n",
      "            min_weight_fraction_leaf=0.0, presort=False, random_state=None,\n",
      "            splitter='best')\n"
     ]
    }
   ],
   "source": [
    "depths = [i for i in range(1,21)]\n",
    "dt_param_grid = dict(max_depth = depths, criterion = ['gini', 'entropy'])\n",
    "dt_grid = tune_hyperparameter(dt_param_grid, DecisionTreeClassifier(), 'accuracy', X_train, y_train)"
   ]
  },
  {
   "cell_type": "code",
   "execution_count": 32,
   "metadata": {},
   "outputs": [
    {
     "name": "stdout",
     "output_type": "stream",
     "text": [
      "Accuracy:  0.766578249337\n",
      "Precision:  0.765625\n",
      "Recall:  0.773684210526\n",
      "F1:  0.769633507853\n"
     ]
    }
   ],
   "source": [
    "dt = DecisionTreeClassifier(max_depth=6, criterion='gini').fit(X_train, y_train)\n",
    "dt_test_pred = dt.predict(X_test)\n",
    "print('Accuracy: ', accuracy_score(y_test, dt_test_pred))\n",
    "print('Precision: ', precision_score(y_test, dt_test_pred, pos_label='Yes'))\n",
    "print('Recall: ', recall_score(y_test, dt_test_pred, pos_label='Yes'))\n",
    "print('F1: ', f1_score(y_test, dt_test_pred, pos_label='Yes'))"
   ]
  },
  {
   "cell_type": "code",
   "execution_count": 33,
   "metadata": {},
   "outputs": [
    {
     "data": {
      "image/png": "[encoded data removed]",
      "text/plain": [
       "<matplotlib.figure.Figure at 0x1153e9748>"
      ]
     },
     "metadata": {},
     "output_type": "display_data"
    }
   ],
   "source": [
    "graph_learning_curve(dt, X_train, y_train)\n",
    "plt.title('Decision Tree Learning Curve', size=16);"
   ]
  },
  {
   "cell_type": "markdown",
   "metadata": {},
   "source": [
    "# Conclusion and Final Thoughts"
   ]
  },
  {
   "cell_type": "markdown",
   "metadata": {},
   "source": [
    "I final accuracy score of 76.7% and recall score of 77.4% was pretty good to see. More time spent on feature selection could lead to increased scores."
   ]
  }
 ],
 "metadata": {
  "kernelspec": {
   "display_name": "Python [default]",
   "language": "python",
   "name": "python3"
  },
  "language_info": {
   "codemirror_mode": {
    "name": "ipython",
    "version": 3
   },
   "file_extension": ".py",
   "mimetype": "text/x-python",
   "name": "python",
   "nbconvert_exporter": "python",
   "pygments_lexer": "ipython3",
   "version": "3.6.2"
  }
 },
 "nbformat": 4,
 "nbformat_minor": 2
}
